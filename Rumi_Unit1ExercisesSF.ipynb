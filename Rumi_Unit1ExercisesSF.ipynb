{
  "nbformat": 4,
  "nbformat_minor": 0,
  "metadata": {
    "colab": {
      "provenance": [],
      "include_colab_link": true
    },
    "kernelspec": {
      "name": "python3",
      "display_name": "Python 3"
    },
    "language_info": {
      "name": "python"
    }
  },
  "cells": [
    {
      "cell_type": "markdown",
      "metadata": {
        "id": "view-in-github",
        "colab_type": "text"
      },
      "source": [
        "<a href=\"https://colab.research.google.com/github/rumijay/Data-Science-2025/blob/main/Rumi_Unit1ExercisesSF.ipynb\" target=\"_parent\"><img src=\"https://colab.research.google.com/assets/colab-badge.svg\" alt=\"Open In Colab\"/></a>"
      ]
    },
    {
      "cell_type": "markdown",
      "source": [
        "# Unit 1 Exercises: Data Structure Concepts\n",
        "\n",
        "The following questions will ask you to describe the various objects we learned about in the first Unit.\n",
        "\n",
        "I'm not giving you coding exercises, because we will learn all the coding technqiues we need as we move through the course.\n",
        "\n",
        "What I do need from you right now, is a conceptual understanding how how data is stored in our computer, when we use python."
      ],
      "metadata": {
        "id": "65OCktLjbZmA"
      }
    },
    {
      "cell_type": "markdown",
      "source": [
        "**Task1**:\n",
        "\n",
        "Describe the similarities and differences between an int and a float in python."
      ],
      "metadata": {
        "id": "bt0bWe1evLtv"
      }
    },
    {
      "cell_type": "markdown",
      "source": [
        "An Int is an integer. A float is a floating point number. So basically an irrational number. They are similar because they are both numbers, but float allows irrationals."
      ],
      "metadata": {
        "id": "FW3KHt4yvt90"
      }
    },
    {
      "cell_type": "markdown",
      "source": [
        "**Task2**:\n",
        "\n",
        "Describe the similarities and differences between: strings, lists, and dicts."
      ],
      "metadata": {
        "id": "mJ_i6he5wwgr"
      }
    },
    {
      "cell_type": "markdown",
      "source": [
        "You assign character variables to strings. Lists allow you to change the variable/input. Dicts can hold any type of data like numbers. They are stored as a key/value. Basically a list of data using curly brackets. They are similar because they all variables that you define. They are different because dicts and lists allow multiple values/keys/inputs. Lists are not iterable, so you would use dicts."
      ],
      "metadata": {
        "id": "iFu5BKyWw98T"
      }
    },
    {
      "cell_type": "markdown",
      "source": [
        "**Task3**:\n",
        "\n",
        "What is a numpy array? Why would we ever use one over a list or dict?"
      ],
      "metadata": {
        "id": "56v05s45yBHk"
      }
    },
    {
      "cell_type": "markdown",
      "source": [
        "Numpy arrays are similar to lists, but they are immutable. They only hold one data type at a time. They allow numbers of all dimesions. Numpy arrays are good to use when arranging sets of data. It's better to use over lists because lists refer to objects, while numpy arrays are homogenous and use less memory. So basically they are faster and better."
      ],
      "metadata": {
        "id": "eikgxyNzyLTY"
      }
    },
    {
      "cell_type": "markdown",
      "source": [
        "**Task4**:\n",
        "\n",
        "What is a pandas dataframe? Why would we ever want to use one over a numpy array?"
      ],
      "metadata": {
        "id": "RLaEQ5irywBl"
      }
    },
    {
      "cell_type": "markdown",
      "source": [
        "You can make panda dataframe from any arrays. It is a column/row label system. These are good for making tables. You can use many methods."
      ],
      "metadata": {
        "id": "5IkNlzYpy-HP"
      }
    },
    {
      "cell_type": "markdown",
      "source": [
        "**Task5**:\n",
        "\n",
        "What are for loops, and why would we ever use them?"
      ],
      "metadata": {
        "id": "khRn2d7qz1Y2"
      }
    },
    {
      "cell_type": "markdown",
      "source": [
        "For loops are used for iterating over a sequence (lists, dicts, strings, etc).  In a for loop you usually have an item that pairs with an iterable.\n",
        "for item in itreable."
      ],
      "metadata": {
        "id": "NAdVfRZB1d9J"
      }
    },
    {
      "cell_type": "markdown",
      "source": [
        "## Bonus: Faster Data Wrangling\n",
        "\n",
        "No, this is not extra credit. There will never be extra credit in this class. Only do these tasks if they sound fun, or to procrastinate on your other coursework."
      ],
      "metadata": {
        "id": "LQiruyOXZ5gx"
      }
    },
    {
      "cell_type": "markdown",
      "source": [
        "I mentioned in the notes that [polars](https://docs.pola.rs/user-guide/migration/pandas/#filtering) is a library that is just plain faster than pandas. I've never actually played with it myself, so I'm shifting that responsibility over to you."
      ],
      "metadata": {
        "id": "cgbgyZpiaVnE"
      }
    },
    {
      "cell_type": "markdown",
      "source": [
        "**Task6**\n",
        "\n",
        "Redo Task11 from the notes, but in polars."
      ],
      "metadata": {
        "id": "4EzSdSs7cUz0"
      }
    },
    {
      "cell_type": "markdown",
      "source": [
        "**Task7**\n",
        "\n",
        "Measure how much faster polars is at the Task11 operation than pandas."
      ],
      "metadata": {
        "id": "sRyQs8QLcfnM"
      }
    },
    {
      "cell_type": "markdown",
      "source": [
        "**Task8**:\n",
        "\n",
        "Explain, in detail, exactly why polars is faster than pandas. Is anything lost by making these changes? Is polars strictly better than pandas? If so, why would pandas exist in the first place?\n",
        "\n",
        "Remember, this is supposed to be fun. If it's not, stop and doing something else."
      ],
      "metadata": {
        "id": "zLdCWzvAdYGA"
      }
    }
  ]
}