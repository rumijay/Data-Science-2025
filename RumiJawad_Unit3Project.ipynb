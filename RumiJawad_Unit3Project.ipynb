{
  "nbformat": 4,
  "nbformat_minor": 0,
  "metadata": {
    "colab": {
      "provenance": [],
      "include_colab_link": true
    },
    "kernelspec": {
      "name": "python3",
      "display_name": "Python 3"
    },
    "language_info": {
      "name": "python"
    }
  },
  "cells": [
    {
      "cell_type": "markdown",
      "metadata": {
        "id": "view-in-github",
        "colab_type": "text"
      },
      "source": [
        "<a href=\"https://colab.research.google.com/github/rumijay/Data-Science-2025/blob/main/RumiJawad_Unit3Project.ipynb\" target=\"_parent\"><img src=\"https://colab.research.google.com/assets/colab-badge.svg\" alt=\"Open In Colab\"/></a>"
      ]
    },
    {
      "cell_type": "markdown",
      "source": [
        "# Unit 3 Project: The Right Likelihood for the Job\n",
        "\n",
        "In unit 2, we asked \"what's the true proportion of ____?\"\n",
        "\n",
        "In this unit's project, we'll ask \"What's the true average of \\_\\_\\_\\_?\" or \"What's the true amount of \\_\\_\\__?\"\n",
        "\n",
        "**Task**:\n",
        "\n",
        "Two parts:\n",
        "\n",
        "1. Propose a data set that's compatible with a single variable likelihood from pymc. I must approve your submission before you move on to part 2.\n",
        "\n",
        "2. Create, analyze, and present a model using pymc within the colab environment, on a data set of your choice, with the following restrictions\n",
        "- You must have at least one prior, and NONE of your priors can be a beta distribtuion\n",
        "- Your likelihood CANNOT be a Bernoulli distribution nor a Binomial distribution.\n",
        "-distributions\n",
        "the normal?\n",
        "the student T?\n",
        "the skew normal?\n",
        "the skew student T?\n"
      ],
      "metadata": {
        "id": "hIWO5hU4NeAg"
      }
    }
  ]
}