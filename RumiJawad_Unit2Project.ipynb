{
  "nbformat": 4,
  "nbformat_minor": 0,
  "metadata": {
    "colab": {
      "provenance": [],
      "authorship_tag": "ABX9TyNeXwBhH+K6t6Nw4oPRQFyc",
      "include_colab_link": true
    },
    "kernelspec": {
      "name": "python3",
      "display_name": "Python 3"
    },
    "language_info": {
      "name": "python"
    }
  },
  "cells": [
    {
      "cell_type": "markdown",
      "metadata": {
        "id": "view-in-github",
        "colab_type": "text"
      },
      "source": [
        "<a href=\"https://colab.research.google.com/github/rumijay/Data-Science-2025/blob/main/RumiJawad_Unit2Project.ipynb\" target=\"_parent\"><img src=\"https://colab.research.google.com/assets/colab-badge.svg\" alt=\"Open In Colab\"/></a>"
      ]
    },
    {
      "cell_type": "code",
      "execution_count": null,
      "metadata": {
        "id": "Ofaow7jDnh13"
      },
      "outputs": [],
      "source": []
    },
    {
      "cell_type": "markdown",
      "source": [
        "# 🎧 Unit 2 Project Yayyy — Beta-Binomial Model\n",
        "\n",
        "**Question:**  \n",
        "How often do Spotify listeners skip songs?\n",
        "\n",
        "I investigated the Spotify Skip rate. As a chronic listener, I enjoy listening to albums on end with no skips. Others on the other hand, will skip songs not as popular on the album.\n",
        "\n",
        "I chose this topic because I am interested in music, and Spotify statistics are always interesting to see. The data trends change yearly per genre and music trends.\n",
        "\n",
        "To determine this rate, I use a Beta-Binomial model to estimate the probability that a Spotify track is skipped.  \n",
        "Real data from a public \"Spotify Listening Insights\" dataset (skip rate ≈ 18.54%).  \n",
        "\n",
        ""
      ],
      "metadata": {
        "id": "1Hu--8wUniZP"
      }
    },
    {
      "cell_type": "markdown",
      "source": [
        " 1) Context + Data\n",
        "\n",
        "modeling the probability p that a song is skipped. :\n",
        "\n",
        "- Skip rate ≈ **18.54%**\n",
        "- Tracked about **16,000 total plays**.\n",
        "- That means **k = 2,966 were skipped**.\n",
        "\n",
        "so our data is:\n",
        "\n",
        "- n = 16,000 (total tracks)\n",
        "- k = 2,966 (skipped tracks)\n",
        "\n",
        "Observed skip rate = k / n = 2966 / 16000 ≈ 0.1854 (18.54%).\n"
      ],
      "metadata": {
        "id": "iIAJGYPgnleN"
      }
    },
    {
      "cell_type": "markdown",
      "source": [
        "\n",
        "2) Prior\n",
        "\n",
        "we pick a simple **Beta(2,2)** prior. (This is good to use for smaller/less accurate data sets)\n",
        "\n",
        "$$ p \\sim \\mathrm{Beta}(\\alpha=2,\\ \\beta=2) $$\n",
        "\n",
        "\n",
        "this is weak/neutral: it believes skip rate could be anywhere from 0 to 1, but slightly prefers 50%.  \n",
        "Since we have lots of data, the prior data will make most the result."
      ],
      "metadata": {
        "id": "wLOb5mZbnm1t"
      }
    },
    {
      "cell_type": "markdown",
      "source": [
        " 4) Posterior\n",
        "\n",
        "Posterior = Prior × Likelihood (updated belief).\n",
        "\n",
        "With a Beta prior and Binomial likelihood, posterior is still Beta:\n",
        "\n",
        "$$ p | data \\sim \\mathrm{Beta}(\\alpha + k,\\ \\beta + n - k) $$\n",
        "\n",
        "Plugging in numbers:\n",
        "- α = 2\n",
        "- β = 2\n",
        "- k = 2966\n",
        "- n = 16000\n",
        "\n",
        "Posterior = **Beta(2968, 13036)**\n"
      ],
      "metadata": {
        "id": "w-9Hwf9unpLj"
      }
    },
    {
      "cell_type": "code",
      "source": [
        "import scipy.stats as st  # import stats library for Beta distribution math\n",
        "\n",
        "#\n",
        "# Set up data\n",
        "n = 16000   # total number of songs played\n",
        "k = 2966    # number of skipped songs\n",
        "alpha = 2   # prior alpha (Beta prior)\n",
        "beta = 2    # prior beta  (Beta prior)\n",
        "\n",
        "#posterior parameters\n",
        "alpha_post = alpha + k           # new alpha = prior alpha + successes (skips)\n",
        "beta_post  = beta + (n - k)      # new beta = prior beta + failures (non-skips)\n",
        "\n",
        "#posterior mean\n",
        "mean_post = alpha_post / (alpha_post + beta_post)  # mean of Beta(a,b) = a / (a+b)\n",
        "\n",
        "# 89% credible interval (lowk not rly sure why)\n",
        "hdi_low = st.beta.ppf(0.055, alpha_post, beta_post)   # lower bound of 89% interval\n",
        "hdi_high = st.beta.ppf(0.945, alpha_post, beta_post)  # upper bound of 89% interval\n",
        "\n",
        "# Print\n",
        "print(f\"Posterior distribution: Beta({alpha_post}, {beta_post})\")\n",
        "print(f\"Posterior mean = {mean_post:.4f} ({mean_post*100:.2f}%)\")\n",
        "print(f\"89% credible interval = ({hdi_low:.4f}, {hdi_high:.4f})\")\n",
        "print(f\"That means between {hdi_low*100:.2f}% and {hdi_high*100:.2f}% skip rate.\")\n",
        "\n",
        "\n"
      ],
      "metadata": {
        "colab": {
          "base_uri": "https://localhost:8080/"
        },
        "id": "HVjR36otntq4",
        "outputId": "f02be660-9e3d-40c1-da88-9417a8b26820"
      },
      "execution_count": 11,
      "outputs": [
        {
          "output_type": "stream",
          "name": "stdout",
          "text": [
            "Posterior distribution: Beta(2968, 13036)\n",
            "Posterior mean = 0.1855 (18.55%)\n",
            "89% credible interval = (0.1806, 0.1904)\n",
            "That means between 18.06% and 19.04% skip rate.\n"
          ]
        }
      ]
    },
    {
      "cell_type": "code",
      "source": [
        "import numpy as np                # for making x-axis values\n",
        "import matplotlib.pyplot as plt   # for plotting graphs\n",
        "import scipy.stats as st\n",
        "\n",
        "\n",
        "# Make x-values for the plot\n",
        "xs = np.linspace(0, 0.4, 600)  # 600 evenly spaced points between 0 and 0.4 (skip prob range)\n",
        "\n",
        "# Compute PDF of Beta posterior at each x\n",
        "pdf = st.beta.pdf(xs, alpha_post, beta_post)\n",
        "\n",
        "#  Plot\n",
        "plt.figure(figsize=(8,4))                                   # make figure\n",
        "plt.plot(xs, pdf, lw=2, label=f\"Beta({alpha_post}, {beta_post}) posterior\")  # curve\n",
        "plt.axvline(mean_post, color='k', linestyle='--', label=f\"Mean ≈ {mean_post:.3f}\")  # vertical line for mean\n",
        "plt.xlabel(\"Skip probability p\")                           # x-axis label\n",
        "plt.legend()                                               # show legend\n",
        "plt.show()                                                 # display the plot\n",
        "\n",
        "#17.7% – 19.4%"
      ],
      "metadata": {
        "colab": {
          "base_uri": "https://localhost:8080/",
          "height": 388
        },
        "id": "07O7639Jnw1a",
        "outputId": "49e1035d-9e0f-495a-fe54-2cc0aeb518a8"
      },
      "execution_count": 13,
      "outputs": [
        {
          "output_type": "display_data",
          "data": {
            "text/plain": [
              "<Figure size 800x400 with 1 Axes>"
            ],
            "image/png": "[encoded data removed]"
          },
          "metadata": {}
        }
      ]
    },
    {
      "cell_type": "markdown",
      "source": [
        "Final Interpretation\n",
        "\n",
        "I investigated the Spotify Skip rate. As a chronic listener, I enjoy listening to albums on end with no skips. Others on the other hand, will skip songs not as popular on the album.\n",
        "\n",
        "Using a public 2025 data sample of 16,000 songs, 2,966 of them were skipped. This gave a prior number of 18.54.\n",
        "\n",
        "Posterior mean skip probability ≈ **18.54%** (I used this to have an uncertain range too, since I obviously didn't calculate every persons listening habits)\n",
        "\n",
        "After using a weak Beta(2,2) prior and 16,000 plays (2,966 skips),\n",
        "\n",
        "we believe the true skip rate is **about 18.5%**, and we are 89% sure\n",
        "it's between **17.7% and 19.4%**.\n",
        "\n",
        "Using the Beta prior + Binomical likelihood Model, I discovered that there was an 18.5% skip rate, almost identical to my inital percentage.\n",
        "\n",
        "89% credible interval: **17.7% – 19.4%**\n",
        "This matches the public Spotify data and gives a big range for uncertainty.\n"
      ],
      "metadata": {
        "id": "X1Eqlmv3nzLb"
      }
    }
  ]
}